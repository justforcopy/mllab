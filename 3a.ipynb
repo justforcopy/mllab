{
 "cells": [
  {
   "cell_type": "code",
   "execution_count": 4,
   "metadata": {},
   "outputs": [],
   "source": [
    "import numpy as np\n",
    "import pandas as pd\n",
    "import matplotlib.pyplot as plt\n",
    "%matplotlib  inline"
   ]
  },
  {
   "cell_type": "code",
   "execution_count": 5,
   "metadata": {},
   "outputs": [],
   "source": [
    "df=pd.read_csv(\"housing_prices_SLR.csv\",delimiter=',')"
   ]
  },
  {
   "cell_type": "code",
   "execution_count": 6,
   "metadata": {},
   "outputs": [
    {
     "data": {
      "text/html": [
       "<div>\n",
       "<style scoped>\n",
       "    .dataframe tbody tr th:only-of-type {\n",
       "        vertical-align: middle;\n",
       "    }\n",
       "\n",
       "    .dataframe tbody tr th {\n",
       "        vertical-align: top;\n",
       "    }\n",
       "\n",
       "    .dataframe thead th {\n",
       "        text-align: right;\n",
       "    }\n",
       "</style>\n",
       "<table border=\"1\" class=\"dataframe\">\n",
       "  <thead>\n",
       "    <tr style=\"text-align: right;\">\n",
       "      <th></th>\n",
       "      <th>AREA</th>\n",
       "      <th>PRICE</th>\n",
       "    </tr>\n",
       "  </thead>\n",
       "  <tbody>\n",
       "    <tr>\n",
       "      <th>0</th>\n",
       "      <td>1000</td>\n",
       "      <td>5618</td>\n",
       "    </tr>\n",
       "    <tr>\n",
       "      <th>1</th>\n",
       "      <td>1030</td>\n",
       "      <td>5201</td>\n",
       "    </tr>\n",
       "    <tr>\n",
       "      <th>2</th>\n",
       "      <td>1060</td>\n",
       "      <td>4779</td>\n",
       "    </tr>\n",
       "    <tr>\n",
       "      <th>3</th>\n",
       "      <td>1090</td>\n",
       "      <td>5425</td>\n",
       "    </tr>\n",
       "    <tr>\n",
       "      <th>4</th>\n",
       "      <td>1120</td>\n",
       "      <td>5657</td>\n",
       "    </tr>\n",
       "  </tbody>\n",
       "</table>\n",
       "</div>"
      ],
      "text/plain": [
       "   AREA  PRICE\n",
       "0  1000   5618\n",
       "1  1030   5201\n",
       "2  1060   4779\n",
       "3  1090   5425\n",
       "4  1120   5657"
      ]
     },
     "execution_count": 6,
     "metadata": {},
     "output_type": "execute_result"
    }
   ],
   "source": [
    "df.head()"
   ]
  },
  {
   "cell_type": "code",
   "execution_count": 7,
   "metadata": {},
   "outputs": [
    {
     "data": {
      "text/plain": [
       "0     1000\n",
       "1     1030\n",
       "2     1060\n",
       "3     1090\n",
       "4     1120\n",
       "5     1150\n",
       "6     1180\n",
       "7     1210\n",
       "8     1240\n",
       "9     1270\n",
       "10    1300\n",
       "11    1330\n",
       "12    1360\n",
       "13    1390\n",
       "14    1420\n",
       "15    1450\n",
       "16    1480\n",
       "17    1510\n",
       "18    1540\n",
       "19    1570\n",
       "20    1600\n",
       "21    1630\n",
       "22    1660\n",
       "23    1690\n",
       "24    1720\n",
       "25    1750\n",
       "26    1780\n",
       "27    1810\n",
       "28    1840\n",
       "29    1870\n",
       "30    1900\n",
       "31    1930\n",
       "32    1960\n",
       "33    1990\n",
       "34    2020\n",
       "35    2050\n",
       "36    2080\n",
       "37    2110\n",
       "38    2140\n",
       "39    2170\n",
       "40    2200\n",
       "41    2230\n",
       "42    2260\n",
       "43    2290\n",
       "44    2320\n",
       "45    2350\n",
       "46    2380\n",
       "47    2410\n",
       "48    2440\n",
       "49    2470\n",
       "Name: AREA, dtype: int64"
      ]
     },
     "execution_count": 7,
     "metadata": {},
     "output_type": "execute_result"
    }
   ],
   "source": [
    "df.AREA"
   ]
  },
  {
   "cell_type": "code",
   "execution_count": 8,
   "metadata": {},
   "outputs": [
    {
     "data": {
      "text/plain": [
       "0      5618\n",
       "1      5201\n",
       "2      4779\n",
       "3      5425\n",
       "4      5657\n",
       "5      4945\n",
       "6      6475\n",
       "7      5352\n",
       "8      6290\n",
       "9      6147\n",
       "10     7718\n",
       "11     7035\n",
       "12     8712\n",
       "13     9457\n",
       "14     7304\n",
       "15     7535\n",
       "16     9968\n",
       "17     7614\n",
       "18     9762\n",
       "19    10067\n",
       "20     8074\n",
       "21    10201\n",
       "22    10051\n",
       "23     9775\n",
       "24    10229\n",
       "25     8314\n",
       "26     9288\n",
       "27    10503\n",
       "28     9763\n",
       "29    11527\n",
       "30     9912\n",
       "31    10204\n",
       "32     9085\n",
       "33    10240\n",
       "34    15220\n",
       "35    12278\n",
       "36    22270\n",
       "37    12574\n",
       "38    12618\n",
       "39    15457\n",
       "40    12793\n",
       "41    12641\n",
       "42    17207\n",
       "43    16969\n",
       "44    16293\n",
       "45    16845\n",
       "46    17604\n",
       "47    17310\n",
       "48    14036\n",
       "49    13699\n",
       "Name: PRICE, dtype: int64"
      ]
     },
     "execution_count": 8,
     "metadata": {},
     "output_type": "execute_result"
    }
   ],
   "source": [
    "df.PRICE"
   ]
  },
  {
   "cell_type": "code",
   "execution_count": 9,
   "metadata": {},
   "outputs": [
    {
     "data": {
      "image/png": "[encoded data removed]",
      "text/plain": [
       "<Figure size 432x288 with 1 Axes>"
      ]
     },
     "metadata": {
      "needs_background": "light"
     },
     "output_type": "display_data"
    }
   ],
   "source": [
    "plt.scatter(df.AREA,df.PRICE,c='blue')\n",
    "plt.show()"
   ]
  },
  {
   "cell_type": "code",
   "execution_count": 10,
   "metadata": {},
   "outputs": [
    {
     "data": {
      "image/png": "[encoded data removed]",
      "text/plain": [
       "<Figure size 432x288 with 1 Axes>"
      ]
     },
     "metadata": {
      "needs_background": "light"
     },
     "output_type": "display_data"
    }
   ],
   "source": [
    "plt.scatter(df.AREA,df.PRICE,c=np.random.random(df.shape[0]))\n",
    "#numpy.random.rand(d0, d1, ..., dn)\n",
    "#Random values in a given shape.\n",
    "\n",
    "#Create an array of the given shape and populate it with random samples from a uniform distribution over [0, 1).\n",
    "\n",
    "#Parameters:\t\n",
    "#d0, d1, …, dn : int, optional\n",
    "#The dimensions of the returned array, should all be positive. If no argument is given a single Python float is returned.\n",
    "\n",
    "#Returns:\t\n",
    "#out : ndarray, shape (d0, d1, ..., dn)\n",
    "#Random values.\n",
    "plt.show()"
   ]
  },
  {
   "cell_type": "code",
   "execution_count": 11,
   "metadata": {},
   "outputs": [
    {
     "data": {
      "text/plain": [
       "array([0.10634188, 0.16563777, 0.14503402, 0.13639087, 0.82074418,\n",
       "       0.18264904, 0.97519293, 0.51212911, 0.24108107, 0.68988698,\n",
       "       0.82408595, 0.72270876, 0.22790888, 0.42631207, 0.81295147,\n",
       "       0.77479926, 0.49397003, 0.45672806, 0.36784443, 0.38444594,\n",
       "       0.98368321, 0.12814245, 0.83414012, 0.86715922, 0.38772276,\n",
       "       0.26421618, 0.94485088, 0.9481993 , 0.89664737, 0.82491722,\n",
       "       0.44419297, 0.95252284, 0.82126868, 0.42102365, 0.5062313 ,\n",
       "       0.39447786, 0.97905486, 0.23926534, 0.24227043, 0.9168363 ,\n",
       "       0.47774745, 0.22477717, 0.87770973, 0.85380753, 0.87090329,\n",
       "       0.2767482 , 0.87009629, 0.72079369, 0.86422915, 0.03620505])"
      ]
     },
     "execution_count": 11,
     "metadata": {},
     "output_type": "execute_result"
    }
   ],
   "source": [
    "df.shape\n",
    "col=np.random.random(df.shape[0])\n",
    "col"
   ]
  },
  {
   "cell_type": "code",
   "execution_count": 12,
   "metadata": {},
   "outputs": [
    {
     "data": {
      "image/png": "[encoded data removed]",
      "text/plain": [
       "<Figure size 432x288 with 1 Axes>"
      ]
     },
     "metadata": {
      "needs_background": "light"
     },
     "output_type": "display_data"
    }
   ],
   "source": [
    "plt.scatter(df.AREA,df.PRICE,c=col,s=4)\n",
    "plt.show()"
   ]
  },
  {
   "cell_type": "markdown",
   "metadata": {},
   "source": [
    "# Step3:Feature matrix and Target vector"
   ]
  },
  {
   "cell_type": "code",
   "execution_count": 13,
   "metadata": {},
   "outputs": [],
   "source": [
    "x=df[['AREA']].values#feature Matrix\n",
    "y=df.PRICE.values#Target Matrix"
   ]
  },
  {
   "cell_type": "code",
   "execution_count": 14,
   "metadata": {},
   "outputs": [
    {
     "data": {
      "text/plain": [
       "array([5618, 5201, 4779, 5425, 5657], dtype=int64)"
      ]
     },
     "execution_count": 14,
     "metadata": {},
     "output_type": "execute_result"
    }
   ],
   "source": [
    "x[:5] #slicing\n",
    "y[:5]"
   ]
  },
  {
   "cell_type": "code",
   "execution_count": 15,
   "metadata": {},
   "outputs": [
    {
     "name": "stdout",
     "output_type": "stream",
     "text": [
      "[[1000]\n",
      " [1030]\n",
      " [1060]\n",
      " [1090]\n",
      " [1120]]\n",
      "[5618 5201 4779 5425 5657]\n"
     ]
    }
   ],
   "source": [
    "print(x[:5]) #slicing\n",
    "print(y[:5])"
   ]
  },
  {
   "cell_type": "markdown",
   "metadata": {},
   "source": [
    "# step4:Split the data into 80-20"
   ]
  },
  {
   "cell_type": "code",
   "execution_count": 26,
   "metadata": {},
   "outputs": [],
   "source": [
    "#from packagename import function\n",
    "from sklearn.model_selection import train_test_split"
   ]
  },
  {
   "cell_type": "code",
   "execution_count": 27,
   "metadata": {},
   "outputs": [],
   "source": [
    "x_train,x_test,y_train,y_test=train_test_split(x,y,test_size=0.2,random_state=100) #80 20 split,random_state to reproduce the same split everytime"
   ]
  },
  {
   "cell_type": "code",
   "execution_count": 28,
   "metadata": {},
   "outputs": [
    {
     "name": "stdout",
     "output_type": "stream",
     "text": [
      "(40, 1)\n",
      "(10, 1)\n",
      "(40, 1)\n",
      "(10, 1)\n"
     ]
    }
   ],
   "source": [
    "print(x_train.shape)\n",
    "print(x_test.shape)\n",
    "print(x_train.shape)\n",
    "print(x_test.shape)"
   ]
  },
  {
   "cell_type": "markdown",
   "metadata": {},
   "source": [
    "# step5: Fit the line:Train the SLR Model"
   ]
  },
  {
   "cell_type": "code",
   "execution_count": 29,
   "metadata": {},
   "outputs": [],
   "source": [
    "from sklearn.linear_model import LinearRegression"
   ]
  },
  {
   "cell_type": "code",
   "execution_count": 30,
   "metadata": {},
   "outputs": [],
   "source": [
    "lr_model= LinearRegression()"
   ]
  },
  {
   "cell_type": "code",
   "execution_count": 31,
   "metadata": {},
   "outputs": [
    {
     "data": {
      "text/plain": [
       "LinearRegression()"
      ]
     },
     "execution_count": 31,
     "metadata": {},
     "output_type": "execute_result"
    }
   ],
   "source": [
    "lr_model.fit(x_train,y_train)"
   ]
  },
  {
   "cell_type": "code",
   "execution_count": 32,
   "metadata": {},
   "outputs": [
    {
     "name": "stdout",
     "output_type": "stream",
     "text": [
      "-3103.34066448488\n",
      "[7.75979089]\n"
     ]
    }
   ],
   "source": [
    "print(lr_model.intercept_) # (PRICE=(-4481.80028058845)+8.65903854)*AREA\n",
    "print(lr_model.coef_)#y=c+mx"
   ]
  },
  {
   "cell_type": "code",
   "execution_count": 33,
   "metadata": {},
   "outputs": [],
   "source": [
    "lr_model=LinearRegression(fit_intercept= False)"
   ]
  },
  {
   "cell_type": "code",
   "execution_count": 34,
   "metadata": {},
   "outputs": [
    {
     "data": {
      "text/plain": [
       "LinearRegression(fit_intercept=False)"
      ]
     },
     "execution_count": 34,
     "metadata": {},
     "output_type": "execute_result"
    }
   ],
   "source": [
    "lr_model.fit(x_train,y_train)"
   ]
  },
  {
   "cell_type": "code",
   "execution_count": 35,
   "metadata": {},
   "outputs": [
    {
     "name": "stdout",
     "output_type": "stream",
     "text": [
      "0.0\n",
      "[6.03609138]\n"
     ]
    }
   ],
   "source": [
    "print(lr_model.intercept_) # (PRICE=(-4481.80028058845)+8.65903854)*AREA\n",
    "print(lr_model.coef_)#y=c+mx"
   ]
  },
  {
   "cell_type": "markdown",
   "metadata": {},
   "source": [
    "# step6:predict using the model"
   ]
  },
  {
   "cell_type": "code",
   "execution_count": 36,
   "metadata": {},
   "outputs": [
    {
     "data": {
      "text/plain": [
       "array([12072.18276042, 15090.22845052])"
      ]
     },
     "execution_count": 36,
     "metadata": {},
     "output_type": "execute_result"
    }
   ],
   "source": [
    "lr_model.predict(np.array([[2000],[2500]]))"
   ]
  },
  {
   "cell_type": "code",
   "execution_count": 37,
   "metadata": {},
   "outputs": [],
   "source": [
    "from sklearn.metrics import r2_score"
   ]
  },
  {
   "cell_type": "code",
   "execution_count": 38,
   "metadata": {},
   "outputs": [
    {
     "data": {
      "text/plain": [
       "array([ 5618,  7035,  9762, 16845, 12618,  8314,  9288, 12278,  7614,\n",
       "        5352, 17310, 10204,  9085, 10067, 10201,  9457,  5201,  5657,\n",
       "        8712, 10503, 12793, 10051, 11527,  6147,  9968, 16293, 14036,\n",
       "       17604,  7304, 12641,  4779, 15220,  9912,  7718,  7535,  9775,\n",
       "       15457,  5425, 10229,  6290], dtype=int64)"
      ]
     },
     "execution_count": 38,
     "metadata": {},
     "output_type": "execute_result"
    }
   ],
   "source": [
    "y_train"
   ]
  },
  {
   "cell_type": "code",
   "execution_count": 39,
   "metadata": {},
   "outputs": [
    {
     "data": {
      "text/plain": [
       "array([ 6036.09138021,  8028.00153568,  9295.58072552, 14184.81474349,\n",
       "       12917.23555365, 10563.15991537, 10744.24265677, 12373.98732943,\n",
       "        9114.49798412,  7303.67057005, 14546.9802263 , 11649.6563638 ,\n",
       "       11830.73910521,  9476.66346693,  9838.82894974,  8390.16701849,\n",
       "        6217.17412162,  6760.42234583,  8209.08427708, 10925.32539818,\n",
       "       13279.40103646, 10019.91169115, 11287.49088099,  7665.83605287,\n",
       "        8933.41524271, 14003.73200208, 14728.06296771, 14365.8974849 ,\n",
       "        8571.2497599 , 13460.48377787,  6398.25686302, 12192.90458802,\n",
       "       11468.5736224 ,  7846.91879427,  8752.3325013 , 10200.99443255,\n",
       "       13098.31829505,  6579.33960443, 10382.07717396,  7484.75331146])"
      ]
     },
     "execution_count": 39,
     "metadata": {},
     "output_type": "execute_result"
    }
   ],
   "source": [
    "lr_model.predict(x_train)"
   ]
  },
  {
   "cell_type": "markdown",
   "metadata": {},
   "source": [
    "# step7:calculating R^2score using tain and test model"
   ]
  },
  {
   "cell_type": "code",
   "execution_count": 40,
   "metadata": {},
   "outputs": [
    {
     "data": {
      "text/plain": [
       "0.820250203127675"
      ]
     },
     "execution_count": 40,
     "metadata": {},
     "output_type": "execute_result"
    }
   ],
   "source": [
    "r2_score(y_train,lr_model.predict(x_train))  # 1.First way of calculating R2 score"
   ]
  },
  {
   "cell_type": "code",
   "execution_count": 41,
   "metadata": {},
   "outputs": [
    {
     "data": {
      "text/plain": [
       "0.5059420550739799"
      ]
     },
     "execution_count": 41,
     "metadata": {},
     "output_type": "execute_result"
    }
   ],
   "source": [
    "r2_score(y_test,lr_model.predict(x_test))"
   ]
  },
  {
   "cell_type": "code",
   "execution_count": 42,
   "metadata": {},
   "outputs": [
    {
     "data": {
      "text/plain": [
       "0.5059420550739799"
      ]
     },
     "execution_count": 42,
     "metadata": {},
     "output_type": "execute_result"
    }
   ],
   "source": [
    "lr_model.score(x_test,y_test) #2.second way of calculating R2 score"
   ]
  },
  {
   "cell_type": "markdown",
   "metadata": {},
   "source": [
    "# step8:Visualizing the model"
   ]
  },
  {
   "cell_type": "code",
   "execution_count": 43,
   "metadata": {},
   "outputs": [
    {
     "data": {
      "text/plain": [
       "[<matplotlib.lines.Line2D at 0x1a1a13e9ac0>]"
      ]
     },
     "execution_count": 43,
     "metadata": {},
     "output_type": "execute_result"
    },
    {
     "data": {
      "image/png": "[encoded data removed]",
      "text/plain": [
       "<Figure size 432x288 with 1 Axes>"
      ]
     },
     "metadata": {
      "needs_background": "light"
     },
     "output_type": "display_data"
    }
   ],
   "source": [
    "plt.scatter(x_train[:,0],y_train,c='red')\n",
    "plt.scatter(x_test[:,0],y_test,c='blue')\n",
    "plt.plot(x_train[:,0],lr_model.predict(x_train),c='y')"
   ]
  },
  {
   "cell_type": "code",
   "execution_count": 44,
   "metadata": {},
   "outputs": [
    {
     "name": "stdout",
     "output_type": "stream",
     "text": [
      "Requirement already satisfied: sklearn in c:\\users\\deepak kumar\\appdata\\local\\programs\\python\\python38\\lib\\site-packages (0.0)\n",
      "Requirement already satisfied: scikit-learn in c:\\users\\deepak kumar\\appdata\\local\\programs\\python\\python38\\lib\\site-packages (from sklearn) (0.23.2)\n",
      "Requirement already satisfied: joblib>=0.11 in c:\\users\\deepak kumar\\appdata\\local\\programs\\python\\python38\\lib\\site-packages (from scikit-learn->sklearn) (0.17.0)\n",
      "Requirement already satisfied: threadpoolctl>=2.0.0 in c:\\users\\deepak kumar\\appdata\\local\\programs\\python\\python38\\lib\\site-packages (from scikit-learn->sklearn) (2.1.0)\n",
      "Requirement already satisfied: numpy>=1.13.3 in c:\\users\\deepak kumar\\appdata\\local\\programs\\python\\python38\\lib\\site-packages (from scikit-learn->sklearn) (1.19.3)\n",
      "Requirement already satisfied: scipy>=0.19.1 in c:\\users\\deepak kumar\\appdata\\local\\programs\\python\\python38\\lib\\site-packages (from scikit-learn->sklearn) (1.5.4)\n"
     ]
    }
   ],
   "source": [
    "!pip install sklearn"
   ]
  },
  {
   "cell_type": "code",
   "execution_count": null,
   "metadata": {},
   "outputs": [],
   "source": []
  },
  {
   "cell_type": "code",
   "execution_count": null,
   "metadata": {},
   "outputs": [],
   "source": []
  }
 ],
 "metadata": {
  "kernelspec": {
   "display_name": "Python 3",
   "language": "python",
   "name": "python3"
  },
  "language_info": {
   "codemirror_mode": {
    "name": "ipython",
    "version": 3
   },
   "file_extension": ".py",
   "mimetype": "text/x-python",
   "name": "python",
   "nbconvert_exporter": "python",
   "pygments_lexer": "ipython3",
   "version": "3.8.6"
  }
 },
 "nbformat": 4,
 "nbformat_minor": 2
}
